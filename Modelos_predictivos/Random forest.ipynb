{
 "cells": [
  {
   "cell_type": "code",
   "execution_count": 82,
   "metadata": {},
   "outputs": [],
   "source": [
    "#librerias\n",
    "import numpy as np\n",
    "import pandas as pd\n",
    "from sklearn.model_selection import train_test_split\n",
    "from sklearn.ensemble import RandomForestRegressor\n",
    "from sklearn.metrics import mean_squared_error"
   ]
  },
  {
   "cell_type": "code",
   "execution_count": 83,
   "metadata": {},
   "outputs": [
    {
     "name": "stdout",
     "output_type": "stream",
     "text": [
      "<class 'pandas.core.frame.DataFrame'>\n"
     ]
    },
    {
     "name": "stderr",
     "output_type": "stream",
     "text": [
      "C:\\Users\\ninic\\AppData\\Local\\Temp\\ipykernel_45324\\3663291827.py:19: SettingWithCopyWarning: \n",
      "A value is trying to be set on a copy of a slice from a DataFrame\n",
      "\n",
      "See the caveats in the documentation: https://pandas.pydata.org/pandas-docs/stable/user_guide/indexing.html#returning-a-view-versus-a-copy\n",
      "  df2.drop(df2.columns[0], axis=1, inplace=True)\n"
     ]
    }
   ],
   "source": [
    "#cargar datos\n",
    "#importamos a un dataframe\n",
    "\n",
    "df = pd.read_csv(r\"C:\\Users\\ninic\\OneDrive - Lambton College\\Term 1\\BDM 1113-NoSQL data Base\\project\\Project-Data-Analysis-Lambton\\Electricity_Generation.csv\", header=None, names=range(47))\n",
    "#nombre de las tablas\n",
    "table_names = [\"Canada\", \"Newfoundland and Labrador\", \"Prince Edward Island\", \"Nova Scotia\", \"New Brunswick\",\"Quebec\", \"Ontario\",\"Manitoba\", \"Alberta\", \"British Columbia\", \"Saskatchewan\", \"Yukon\", \"Northwest Territories\", \"Nunavut\"]\n",
    "# Identificar grupos basados en los nombres de las tablas\n",
    "groups = df[0].isin(table_names).cumsum()\n",
    "# Crear un diccionario de DataFrames para cada tabla\n",
    "tables = {g.iloc[0,0]: g.iloc[1:-1, :20] for k,g in df.groupby(groups)} \n",
    "\n",
    "\n",
    "#acomodar datos\n",
    "#selecciono una sola region \n",
    "df2 = tables[\"Canada\"]\n",
    "#eliminar primera fila porque los anos estaban en esa fila\n",
    "df2 = df2.iloc[1:, :]\n",
    "#eliminar esa columna\n",
    "df2.drop(df2.columns[0], axis=1, inplace=True)\n",
    "# Renombrar las columnas del 2005 al 2023\n",
    "nuevos_nombres = {str(anio): f'Titulo_{anio}' for anio in range(2005, 2024)}\n",
    "# Asignar nuevos nombres a las columnas\n",
    "df2.columns = nuevos_nombres\n",
    "#reset index\n",
    "df2 = df2.reset_index(drop=True)\n",
    "#nuevos nombres index\n",
    "ind_nombres = [\"Hydro / Wave / Tidal\", \"Wind\", \"Biomass / Geothermal\",\"Solar\",\"Uranium\",\"Coal & Coke\",\"Natural Gas\",\"Oil\"]  \n",
    "df2.rename(index=dict(enumerate(ind_nombres)), inplace=True)\n",
    "#transponer matriz\n",
    "dataset = df2.T\n",
    "#cambiar los numeros a fecha\n",
    "dataset.index = pd.to_datetime(dataset.index, format='%Y')\n",
    "#seleccionamos que solo sea WIND y lo pasamos de serie a dataframe \n",
    "dataset=dataset[\"Wind\"].to_frame()\n",
    "print(type(dataset))\n",
    "#print(dataset)\n"
   ]
  },
  {
   "cell_type": "code",
   "execution_count": 86,
   "metadata": {},
   "outputs": [
    {
     "name": "stdout",
     "output_type": "stream",
     "text": [
      "<class 'numpy.ndarray'>\n"
     ]
    }
   ],
   "source": [
    "df = dataset\n",
    "df['Year'] = pd.to_datetime(df.index)\n",
    "df.set_index('Year', inplace=True)\n",
    "\n",
    "# Crear características basadas en valores anteriores\n",
    "for i in range(1, 4):  # Usaremos los 3 años anteriores como características\n",
    "    df[f'Wind_{i}'] = df['Wind'].shift(i)\n",
    "\n",
    "\"\"\"\n",
    "Usar los 3 años anteriores como características significa que, para predecir el valor de la variable objetivo (en este caso, la generación de energía eólica) de un año específico,\n",
    " utilizamos los valores de esa misma variable de los tres años anteriores como datos de entrada para el modelo.\"\"\"\n",
    "\n",
    "df.dropna(inplace=True)  # Eliminar filas con valores NaN resultantes de los shifts\n",
    "\n",
    "# Dividir los datos en conjuntos de entrenamiento y prueba\n",
    "X = df.drop(['Wind'], axis=1)\n",
    "y = df['Wind']\n",
    "\n",
    "# Dividir los datos en conjunto de entrenamiento y conjunto de prueba\n",
    "X_train, X_test, y_train, y_test = train_test_split(X, y, test_size=0.2, random_state=42)\n",
    "\n",
    "# Crear y entrenar el modelo de Random Forest\n",
    "model = RandomForestRegressor(n_estimators=1000, random_state=42)\n",
    "model.fit(X_train, y_train)\n",
    "\n",
    "# Predecir con el conjunto de prueba\n",
    "y_pred = model.predict(X_test)\n",
    "\n",
    "# Calcular el error cuadrático medio (MSE)\n",
    "mse = mean_squared_error(y_test, y_pred)\n",
    "\n",
    "print(type(y_pred))"
   ]
  }
 ],
 "metadata": {
  "kernelspec": {
   "display_name": "Python 3",
   "language": "python",
   "name": "python3"
  },
  "language_info": {
   "codemirror_mode": {
    "name": "ipython",
    "version": 3
   },
   "file_extension": ".py",
   "mimetype": "text/x-python",
   "name": "python",
   "nbconvert_exporter": "python",
   "pygments_lexer": "ipython3",
   "version": "3.11.4"
  }
 },
 "nbformat": 4,
 "nbformat_minor": 2
}
