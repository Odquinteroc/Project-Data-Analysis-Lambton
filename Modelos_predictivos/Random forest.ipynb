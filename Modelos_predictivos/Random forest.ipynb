{
 "cells": [
  {
   "cell_type": "code",
   "execution_count": 1,
   "metadata": {},
   "outputs": [],
   "source": [
    "#librerias\n",
    "import pandas as pd\n",
    "from sklearn.model_selection import train_test_split\n",
    "from sklearn.ensemble import RandomForestRegressor\n",
    "from sklearn.metrics import mean_squared_error"
   ]
  },
  {
   "cell_type": "code",
   "execution_count": null,
   "metadata": {},
   "outputs": [],
   "source": [
    "#cargar datos\n",
    "#importamos a un dataframe\n",
    "\n",
    "df = pd.read_csv(r\"C:\\Users\\ninic\\OneDrive - Lambton College\\Term 1\\BDM 1113-NoSQL data Base\\project\\Project-Data-Analysis-Lambton\\Electricity_Generation.csv\", header=None, names=range(47))\n",
    "#nombre de las tablas\n",
    "table_names = [\"Canada\", \"Newfoundland and Labrador\", \"Prince Edward Island\", \"Nova Scotia\", \"New Brunswick\",\"Quebec\", \"Ontario\",\"Manitoba\", \"Alberta\", \"British Columbia\", \"Saskatchewan\", \"Yukon\", \"Northwest Territories\", \"Nunavut\"]\n",
    "# Identificar grupos basados en los nombres de las tablas\n",
    "groups = df[0].isin(table_names).cumsum()\n",
    "# Crear un diccionario de DataFrames para cada tabla\n",
    "tables = {g.iloc[0,0]: g.iloc[1:-1, :20] for k,g in df.groupby(groups)} \n",
    "\n",
    "\n",
    "#acomodar datos\n",
    "#selecciono una sola region \n",
    "df2 = tables[\"Canada\"]\n",
    "#eliminar primera fila porque los anos estaban en esa fila\n",
    "df2 = df2.iloc[1:, :]\n",
    "#eliminar esa columna\n",
    "df2.drop(df2.columns[0], axis=1, inplace=True)\n",
    "# Renombrar las columnas del 2005 al 2023\n",
    "nuevos_nombres = {str(anio): f'Titulo_{anio}' for anio in range(2005, 2024)}\n",
    "# Asignar nuevos nombres a las columnas\n",
    "df2.columns = nuevos_nombres\n",
    "#reset index\n",
    "df2 = df2.reset_index(drop=True)\n",
    "#nuevos nombres index\n",
    "ind_nombres = [\"Hydro / Wave / Tidal\", \"Wind\", \"Biomass / Geothermal\",\"Solar\",\"Uranium\",\"Coal & Coke\",\"Natural Gas\",\"Oil\"]  \n",
    "df2.rename(index=dict(enumerate(ind_nombres)), inplace=True)\n",
    "#transponer matriz\n",
    "dataset = df2.T\n",
    "#cambiar los numeros a fecha\n",
    "dataset.index = pd.to_datetime(dataset.index, format='%Y')\n",
    "#seleccionamos que solo sea WIND y lo pasamos de serie a dataframe \n",
    "dataset=dataset[\"Wind\"].to_frame()\n",
    "print(type(dataset))\n",
    "print(dataset)\n"
   ]
  }
 ],
 "metadata": {
  "kernelspec": {
   "display_name": "Python 3",
   "language": "python",
   "name": "python3"
  },
  "language_info": {
   "codemirror_mode": {
    "name": "ipython",
    "version": 3
   },
   "file_extension": ".py",
   "mimetype": "text/x-python",
   "name": "python",
   "nbconvert_exporter": "python",
   "pygments_lexer": "ipython3",
   "version": "3.11.4"
  }
 },
 "nbformat": 4,
 "nbformat_minor": 2
}
