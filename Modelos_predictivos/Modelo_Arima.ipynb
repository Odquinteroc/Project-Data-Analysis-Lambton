{
 "cells": [
  {
   "cell_type": "code",
   "execution_count": 3,
   "metadata": {},
   "outputs": [],
   "source": [
    "import pandas as pd\n",
    "from pmdarima import auto_arima"
   ]
  },
  {
   "cell_type": "code",
   "execution_count": 5,
   "metadata": {},
   "outputs": [
    {
     "name": "stdout",
     "output_type": "stream",
     "text": [
      "<class 'pandas.core.frame.DataFrame'>\n",
      "                Wind\n",
      "2005-01-01   1453.41\n",
      "2006-01-01   2529.41\n",
      "2007-01-01   3683.41\n",
      "2008-01-01   4715.44\n",
      "2009-01-01   7031.23\n",
      "2010-01-01   8354.23\n",
      "2011-01-01  11622.99\n",
      "2012-01-01  13716.78\n",
      "2013-01-01  17544.74\n",
      "2014-01-01  21484.50\n",
      "2015-01-01  26692.57\n",
      "2016-01-01  30624.00\n",
      "2017-01-01  31197.00\n",
      "2018-01-01  32814.01\n",
      "2019-01-01  32333.00\n",
      "2020-01-01  37454.07\n",
      "2021-01-01  35996.13\n",
      "2022-01-01  50816.97\n",
      "2023-01-01  54408.92\n"
     ]
    },
    {
     "name": "stderr",
     "output_type": "stream",
     "text": [
      "C:\\Users\\ninic\\AppData\\Local\\Temp\\ipykernel_47324\\1122791778.py:19: SettingWithCopyWarning: \n",
      "A value is trying to be set on a copy of a slice from a DataFrame\n",
      "\n",
      "See the caveats in the documentation: https://pandas.pydata.org/pandas-docs/stable/user_guide/indexing.html#returning-a-view-versus-a-copy\n",
      "  df2.drop(df2.columns[0], axis=1, inplace=True)\n"
     ]
    }
   ],
   "source": [
    "#cargar datos\n",
    "#importamos a un dataframe\n",
    "\n",
    "df = pd.read_csv(r\"C:\\Users\\ninic\\OneDrive - Lambton College\\Term 1\\BDM 1113-NoSQL data Base\\project\\Project-Data-Analysis-Lambton\\Electricity_Generation.csv\", header=None, names=range(47))\n",
    "#nombre de las tablas\n",
    "table_names = [\"Canada\", \"Newfoundland and Labrador\", \"Prince Edward Island\", \"Nova Scotia\", \"New Brunswick\",\"Quebec\", \"Ontario\",\"Manitoba\", \"Alberta\", \"British Columbia\", \"Saskatchewan\", \"Yukon\", \"Northwest Territories\", \"Nunavut\"]\n",
    "# Identificar grupos basados en los nombres de las tablas\n",
    "groups = df[0].isin(table_names).cumsum()\n",
    "# Crear un diccionario de DataFrames para cada tabla\n",
    "tables = {g.iloc[0,0]: g.iloc[1:-1, :20] for k,g in df.groupby(groups)} \n",
    "\n",
    "\n",
    "#acomodar datos\n",
    "#selecciono una sola region \n",
    "df2 = tables[\"Canada\"]\n",
    "#eliminar primera fila porque los anos estaban en esa fila\n",
    "df2 = df2.iloc[1:, :]\n",
    "#eliminar esa columna\n",
    "df2.drop(df2.columns[0], axis=1, inplace=True)\n",
    "# Renombrar las columnas del 2005 al 2023\n",
    "nuevos_nombres = {str(anio): f'Titulo_{anio}' for anio in range(2005, 2024)}\n",
    "# Asignar nuevos nombres a las columnas\n",
    "df2.columns = nuevos_nombres\n",
    "#reset index\n",
    "df2 = df2.reset_index(drop=True)\n",
    "#nuevos nombres index\n",
    "ind_nombres = [\"Hydro / Wave / Tidal\", \"Wind\", \"Biomass / Geothermal\",\"Solar\",\"Uranium\",\"Coal & Coke\",\"Natural Gas\",\"Oil\"]  \n",
    "df2.rename(index=dict(enumerate(ind_nombres)), inplace=True)\n",
    "#transponer matriz\n",
    "dataset = df2.T\n",
    "#cambiar los numeros a fecha\n",
    "dataset.index = pd.to_datetime(dataset.index, format='%Y')\n",
    "#seleccionamos que solo sea WIND y lo pasamos de serie a dataframe \n",
    "dataset=dataset[\"Wind\"].to_frame()\n",
    "print(type(dataset))\n",
    "print(dataset)\n"
   ]
  },
  {
   "cell_type": "code",
   "execution_count": 12,
   "metadata": {},
   "outputs": [
    {
     "name": "stderr",
     "output_type": "stream",
     "text": [
      "c:\\Users\\ninic\\AppData\\Local\\Programs\\Python\\Python311\\Lib\\site-packages\\pmdarima\\arima\\_validation.py:76: UserWarning: stepwise model cannot be fit in parallel (n_jobs=1). Falling back to stepwise parameter search.\n",
      "  warnings.warn('stepwise model cannot be fit in parallel (n_jobs=%i). '\n"
     ]
    },
    {
     "name": "stdout",
     "output_type": "stream",
     "text": [
      "                               SARIMAX Results                                \n",
      "==============================================================================\n",
      "Dep. Variable:                      y   No. Observations:                   19\n",
      "Model:               SARIMAX(0, 1, 0)   Log Likelihood                -171.852\n",
      "Date:                Tue, 26 Mar 2024   AIC                            347.704\n",
      "Time:                        19:25:02   BIC                            349.485\n",
      "Sample:                    01-01-2005   HQIC                           347.950\n",
      "                         - 01-01-2023                                         \n",
      "Covariance Type:                  opg                                         \n",
      "==============================================================================\n",
      "                 coef    std err          z      P>|z|      [0.025      0.975]\n",
      "------------------------------------------------------------------------------\n",
      "intercept   2941.9728   1309.208      2.247      0.025     375.972    5507.974\n",
      "sigma2      1.149e+07   3.21e+06      3.581      0.000     5.2e+06    1.78e+07\n",
      "===================================================================================\n",
      "Ljung-Box (L1) (Q):                   0.94   Jarque-Bera (JB):                38.37\n",
      "Prob(Q):                              0.33   Prob(JB):                         0.00\n",
      "Heteroskedasticity (H):              13.32   Skew:                             2.19\n",
      "Prob(H) (two-sided):                  0.01   Kurtosis:                         8.65\n",
      "===================================================================================\n",
      "\n",
      "Warnings:\n",
      "[1] Covariance matrix calculated using the outer product of gradients (complex-step).\n",
      "2024-01-01    57350.892778\n",
      "2025-01-01    60292.865556\n",
      "2026-01-01    63234.838333\n",
      "2027-01-01    66176.811111\n",
      "Freq: AS-JAN, dtype: float64\n"
     ]
    }
   ],
   "source": [
    "\n",
    "\n",
    "\n",
    "# Ahora, 'datos' es un DataFrame de pandas con tus datos de serie temporal.\n",
    "# Puedes ajustar el modelo auto_arima directamente con la columna de observaciones.\n",
    "\n",
    "# Ajusta un modelo auto_arima a tu serie temporal\n",
    "modelo = auto_arima(dataset['Wind'], seasonal=False, stepwise=True, suppress_warnings=True, error_action=\"ignore\", n_jobs=-1)\n",
    "\n",
    "# Muestra un resumen del modelo\n",
    "print(modelo.summary())\n",
    "#-------------------------------------------\n",
    "\n",
    "# Hacer un pronóstico para los próximos 4 años (2024 a 2027)\n",
    "pronostico_2024_a_2027 = modelo.predict(n_periods=4)\n",
    "print(pronostico_2024_a_2027)\n",
    "# Los años para los cuales se realiza el pronóstico\n",
    "años = [2024, 2025, 2026, 2027]\n",
    "\n",
    "# Crear un DataFrame para mostrar los pronósticos de forma más amigable\n",
    "pronosticos_df = pd.DataFrame(data=pronostico_2024_a_2027, index=años, columns=['Pronóstico'])\n",
    "#print(pronosticos_df)"
   ]
  }
 ],
 "metadata": {
  "kernelspec": {
   "display_name": "Python 3",
   "language": "python",
   "name": "python3"
  },
  "language_info": {
   "codemirror_mode": {
    "name": "ipython",
    "version": 3
   },
   "file_extension": ".py",
   "mimetype": "text/x-python",
   "name": "python",
   "nbconvert_exporter": "python",
   "pygments_lexer": "ipython3",
   "version": "3.11.4"
  }
 },
 "nbformat": 4,
 "nbformat_minor": 2
}
