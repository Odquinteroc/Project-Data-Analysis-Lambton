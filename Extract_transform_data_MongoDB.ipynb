{
 "cells": [
  {
   "cell_type": "code",
   "execution_count": 1,
   "metadata": {},
   "outputs": [],
   "source": [
    "from dotenv import load_dotenv\n",
    "import os\n",
    "import pymongo\n",
    "import os\n",
    "import pandas as pd\n",
    "from pymongo import MongoClient"
   ]
  },
  {
   "cell_type": "code",
   "execution_count": 2,
   "metadata": {},
   "outputs": [
    {
     "data": {
      "text/plain": [
       "True"
      ]
     },
     "execution_count": 2,
     "metadata": {},
     "output_type": "execute_result"
    }
   ],
   "source": [
    "# Load environment variables from the .env file\n",
    "load_dotenv()"
   ]
  },
  {
   "cell_type": "code",
   "execution_count": 3,
   "metadata": {},
   "outputs": [],
   "source": [
    "# Retrieve the MongoDB connection URI from the environment variables\n",
    "dbURI = os.getenv(\"MONGODB_URI\")"
   ]
  },
  {
   "cell_type": "code",
   "execution_count": 4,
   "metadata": {},
   "outputs": [],
   "source": [
    "# Connect to MongoDB using the connection URI\n",
    "client = pymongo.MongoClient(dbURI)"
   ]
  },
  {
   "cell_type": "code",
   "execution_count": 5,
   "metadata": {},
   "outputs": [],
   "source": [
    "# Access the \"Project\" database (it's not physically created until it has content)\n",
    "db = client['Project']"
   ]
  },
  {
   "cell_type": "code",
   "execution_count": 6,
   "metadata": {},
   "outputs": [],
   "source": [
    "collection = db['capacity']"
   ]
  },
  {
   "cell_type": "code",
   "execution_count": 7,
   "metadata": {},
   "outputs": [],
   "source": [
    "documents = collection.find()"
   ]
  },
  {
   "cell_type": "code",
   "execution_count": 8,
   "metadata": {},
   "outputs": [],
   "source": [
    "data = []\n",
    "for doc in documents:\n",
    "    province = doc[\"_id\"]\n",
    "    for energy_type, year_data in doc.items():\n",
    "        if energy_type != \"_id\":  # Skip the _id field\n",
    "            for year, value in year_data.items():\n",
    "                data.append({\n",
    "                    \"province\": province,\n",
    "                    \"energy type\": energy_type,\n",
    "                    \"year\": int(year),\n",
    "                    \"value\": value\n",
    "                })"
   ]
  },
  {
   "cell_type": "code",
   "execution_count": 9,
   "metadata": {},
   "outputs": [
    {
     "name": "stdout",
     "output_type": "stream",
     "text": [
      "     province           energy type  year   value\n",
      "0     Alberta  Hydro / Wave / Tidal  2005  869.00\n",
      "1     Alberta  Hydro / Wave / Tidal  2006  874.00\n",
      "2     Alberta  Hydro / Wave / Tidal  2007  874.00\n",
      "3     Alberta  Hydro / Wave / Tidal  2008  874.00\n",
      "4     Alberta  Hydro / Wave / Tidal  2009  874.00\n",
      "...       ...                   ...   ...     ...\n",
      "2104    Yukon                   Oil  2019   24.57\n",
      "2105    Yukon                   Oil  2020   24.57\n",
      "2106    Yukon                   Oil  2021   24.57\n",
      "2107    Yukon                   Oil  2022   24.57\n",
      "2108    Yukon                   Oil  2023   24.57\n",
      "\n",
      "[2109 rows x 4 columns]\n"
     ]
    }
   ],
   "source": [
    "# Create a DataFrame\n",
    "df = pd.DataFrame(data)\n",
    "print(df)"
   ]
  },
  {
   "cell_type": "code",
   "execution_count": 10,
   "metadata": {},
   "outputs": [],
   "source": [
    "collection1 = db['generation']"
   ]
  },
  {
   "cell_type": "code",
   "execution_count": 11,
   "metadata": {},
   "outputs": [],
   "source": [
    "documents1 = collection1.find()"
   ]
  },
  {
   "cell_type": "code",
   "execution_count": 12,
   "metadata": {},
   "outputs": [],
   "source": [
    "data1 = []\n",
    "for doc in documents1:\n",
    "    province = doc[\"_id\"]\n",
    "    for energy_type, year_data in doc.items():\n",
    "        if energy_type != \"_id\":  # Skip the _id field\n",
    "            for year, value in year_data.items():\n",
    "                data1.append({\n",
    "                    \"province\": province,\n",
    "                    \"energy type\": energy_type,\n",
    "                    \"year\": int(year),\n",
    "                    \"value\": value\n",
    "                })"
   ]
  },
  {
   "cell_type": "code",
   "execution_count": 13,
   "metadata": {},
   "outputs": [
    {
     "name": "stdout",
     "output_type": "stream",
     "text": [
      "     province           energy type  year    value\n",
      "0     Alberta  Hydro / Wave / Tidal  2005  2316.00\n",
      "1     Alberta  Hydro / Wave / Tidal  2006  1966.00\n",
      "2     Alberta  Hydro / Wave / Tidal  2007  2113.00\n",
      "3     Alberta  Hydro / Wave / Tidal  2008  2150.00\n",
      "4     Alberta  Hydro / Wave / Tidal  2009  1695.00\n",
      "...       ...                   ...   ...      ...\n",
      "2104    Yukon                   Oil  2019     0.00\n",
      "2105    Yukon                   Oil  2020    75.33\n",
      "2106    Yukon                   Oil  2021    79.32\n",
      "2107    Yukon                   Oil  2022    82.18\n",
      "2108    Yukon                   Oil  2023    98.66\n",
      "\n",
      "[2109 rows x 4 columns]\n"
     ]
    }
   ],
   "source": [
    "# Create a DataFrame\n",
    "df1 = pd.DataFrame(data1)\n",
    "print(df1)"
   ]
  }
 ],
 "metadata": {
  "kernelspec": {
   "display_name": "Python 3",
   "language": "python",
   "name": "python3"
  },
  "language_info": {
   "codemirror_mode": {
    "name": "ipython",
    "version": 3
   },
   "file_extension": ".py",
   "mimetype": "text/x-python",
   "name": "python",
   "nbconvert_exporter": "python",
   "pygments_lexer": "ipython3",
   "version": "3.10.11"
  }
 },
 "nbformat": 4,
 "nbformat_minor": 2
}
