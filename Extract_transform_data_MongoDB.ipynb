{
 "cells": [
  {
   "cell_type": "code",
   "execution_count": 2,
   "metadata": {},
   "outputs": [],
   "source": [
    "from dotenv import load_dotenv\n",
    "import os\n",
    "import pymongo\n",
    "import os\n",
    "import pandas as pd\n",
    "from pymongo import MongoClient"
   ]
  },
  {
   "cell_type": "code",
   "execution_count": 3,
   "metadata": {},
   "outputs": [
    {
     "data": {
      "text/plain": [
       "True"
      ]
     },
     "execution_count": 3,
     "metadata": {},
     "output_type": "execute_result"
    }
   ],
   "source": [
    "# Load environment variables from the .env file\n",
    "load_dotenv()"
   ]
  },
  {
   "cell_type": "code",
   "execution_count": 4,
   "metadata": {},
   "outputs": [],
   "source": [
    "# Retrieve the MongoDB connection URI from the environment variables\n",
    "dbURI = os.getenv(\"MONGODB_URI\")"
   ]
  },
  {
   "cell_type": "code",
   "execution_count": 5,
   "metadata": {},
   "outputs": [],
   "source": [
    "# Connect to MongoDB using the connection URI\n",
    "client = pymongo.MongoClient(dbURI)"
   ]
  },
  {
   "cell_type": "code",
   "execution_count": 6,
   "metadata": {},
   "outputs": [],
   "source": [
    "# Access the \"Project\" database (it's not physically created until it has content)\n",
    "db = client['Project']"
   ]
  },
  {
   "cell_type": "code",
   "execution_count": 6,
   "metadata": {},
   "outputs": [],
   "source": [
    "collection = db['capacity']"
   ]
  },
  {
   "cell_type": "code",
   "execution_count": 7,
   "metadata": {},
   "outputs": [],
   "source": [
    "documents = collection.find()"
   ]
  },
  {
   "cell_type": "code",
   "execution_count": 8,
   "metadata": {},
   "outputs": [],
   "source": [
    "data = []\n",
    "for doc in documents:\n",
    "    province = doc[\"_id\"]\n",
    "    for energy_type, year_data in doc.items():\n",
    "        if energy_type != \"_id\":  # Skip the _id field\n",
    "            for year, value in year_data.items():\n",
    "                data.append({\n",
    "                    \"province\": province,\n",
    "                    \"energy type\": energy_type,\n",
    "                    \"year\": int(year),\n",
    "                    \"value\": value\n",
    "                })"
   ]
  },
  {
   "cell_type": "code",
   "execution_count": 9,
   "metadata": {},
   "outputs": [
    {
     "name": "stdout",
     "output_type": "stream",
     "text": [
      "     province           energy type  year   value\n",
      "0     Alberta  Hydro / Wave / Tidal  2005  869.00\n",
      "1     Alberta  Hydro / Wave / Tidal  2006  874.00\n",
      "2     Alberta  Hydro / Wave / Tidal  2007  874.00\n",
      "3     Alberta  Hydro / Wave / Tidal  2008  874.00\n",
      "4     Alberta  Hydro / Wave / Tidal  2009  874.00\n",
      "...       ...                   ...   ...     ...\n",
      "2104    Yukon                   Oil  2019   24.57\n",
      "2105    Yukon                   Oil  2020   24.57\n",
      "2106    Yukon                   Oil  2021   24.57\n",
      "2107    Yukon                   Oil  2022   24.57\n",
      "2108    Yukon                   Oil  2023   24.57\n",
      "\n",
      "[2109 rows x 4 columns]\n"
     ]
    }
   ],
   "source": [
    "# Create a DataFrame\n",
    "df = pd.DataFrame(data)\n",
    "print(df)"
   ]
  },
  {
   "cell_type": "code",
   "execution_count": 10,
   "metadata": {},
   "outputs": [],
   "source": [
    "collection1 = db['generation']"
   ]
  },
  {
   "cell_type": "code",
   "execution_count": 11,
   "metadata": {},
   "outputs": [],
   "source": [
    "documents1 = collection1.find()"
   ]
  },
  {
   "cell_type": "code",
   "execution_count": 12,
   "metadata": {},
   "outputs": [],
   "source": [
    "data1 = []\n",
    "for doc in documents1:\n",
    "    province = doc[\"_id\"]\n",
    "    for energy_type, year_data in doc.items():\n",
    "        if energy_type != \"_id\":  # Skip the _id field\n",
    "            for year, value in year_data.items():\n",
    "                data1.append({\n",
    "                    \"province\": province,\n",
    "                    \"energy type\": energy_type,\n",
    "                    \"year\": int(year),\n",
    "                    \"value\": value\n",
    "                })"
   ]
  },
  {
   "cell_type": "code",
   "execution_count": 13,
   "metadata": {},
   "outputs": [
    {
     "name": "stdout",
     "output_type": "stream",
     "text": [
      "     province           energy type  year    value\n",
      "0     Alberta  Hydro / Wave / Tidal  2005  2316.00\n",
      "1     Alberta  Hydro / Wave / Tidal  2006  1966.00\n",
      "2     Alberta  Hydro / Wave / Tidal  2007  2113.00\n",
      "3     Alberta  Hydro / Wave / Tidal  2008  2150.00\n",
      "4     Alberta  Hydro / Wave / Tidal  2009  1695.00\n",
      "...       ...                   ...   ...      ...\n",
      "2104    Yukon                   Oil  2019     0.00\n",
      "2105    Yukon                   Oil  2020    75.33\n",
      "2106    Yukon                   Oil  2021    79.32\n",
      "2107    Yukon                   Oil  2022    82.18\n",
      "2108    Yukon                   Oil  2023    98.66\n",
      "\n",
      "[2109 rows x 4 columns]\n"
     ]
    }
   ],
   "source": [
    "# Create a DataFrame\n",
    "df1 = pd.DataFrame(data1)\n",
    "print(df1)"
   ]
  },
  {
   "cell_type": "code",
   "execution_count": 7,
   "metadata": {},
   "outputs": [],
   "source": [
    "collection2 = db['capacity_by_sector']"
   ]
  },
  {
   "cell_type": "code",
   "execution_count": 8,
   "metadata": {},
   "outputs": [],
   "source": [
    "documents2 = collection2.find()"
   ]
  },
  {
   "cell_type": "code",
   "execution_count": 10,
   "metadata": {},
   "outputs": [],
   "source": [
    "data2 = []\n",
    "\n",
    "for document in documents2:\n",
    "    sector = document[\"_id\"]\n",
    "    # Iterate over each year in the document\n",
    "    for year in document:\n",
    "        if year != \"_id\" and isinstance(document[year], dict):  # Check if it's a year key and the value is a dictionary\n",
    "            # Access the subdocument for the year\n",
    "            year_data = document[year]\n",
    "            # Append a dictionary with the desired structure to the data list\n",
    "            data2.append({\n",
    "                \"sector\": sector,\n",
    "                \"year\": year,\n",
    "                \"UOM\": year_data[\"UOM\"],\n",
    "                \"value\": year_data[\"VALUE\"],\n",
    "                \"growth_percentage\": year_data.get(\"Grow_percentage\", None)  # Using .get() to handle missing data\n",
    "            })"
   ]
  },
  {
   "cell_type": "code",
   "execution_count": 11,
   "metadata": {},
   "outputs": [
    {
     "name": "stdout",
     "output_type": "stream",
     "text": [
      "                                               sector  year        UOM  \\\n",
      "0                          private electric utilities  2010  Kilowatts   \n",
      "1                          private electric utilities  2011  Kilowatts   \n",
      "2                          private electric utilities  2012  Kilowatts   \n",
      "3                          private electric utilities  2013  Kilowatts   \n",
      "4                          private electric utilities  2014  Kilowatts   \n",
      "5                          private electric utilities  2015  Kilowatts   \n",
      "6                          private electric utilities  2016  Kilowatts   \n",
      "7                          private electric utilities  2017  Kilowatts   \n",
      "8                          private electric utilities  2018  Kilowatts   \n",
      "9                          private electric utilities  2019  Kilowatts   \n",
      "10                         private electric utilities  2020  Kilowatts   \n",
      "11                         private electric utilities  2021  Kilowatts   \n",
      "12                         private electric utilities  2022  Kilowatts   \n",
      "13                          public electric utilities  2010  Kilowatts   \n",
      "14                          public electric utilities  2011  Kilowatts   \n",
      "15                          public electric utilities  2012  Kilowatts   \n",
      "16                          public electric utilities  2013  Kilowatts   \n",
      "17                          public electric utilities  2014  Kilowatts   \n",
      "18                          public electric utilities  2015  Kilowatts   \n",
      "19                          public electric utilities  2016  Kilowatts   \n",
      "20                          public electric utilities  2017  Kilowatts   \n",
      "21                          public electric utilities  2018  Kilowatts   \n",
      "22                          public electric utilities  2019  Kilowatts   \n",
      "23                          public electric utilities  2020  Kilowatts   \n",
      "24                          public electric utilities  2021  Kilowatts   \n",
      "25                          public electric utilities  2022  Kilowatts   \n",
      "26  capacity in Total all classes of electricity p...  2010  Kilowatts   \n",
      "27  capacity in Total all classes of electricity p...  2011  Kilowatts   \n",
      "28  capacity in Total all classes of electricity p...  2012  Kilowatts   \n",
      "29  capacity in Total all classes of electricity p...  2013  Kilowatts   \n",
      "30  capacity in Total all classes of electricity p...  2014  Kilowatts   \n",
      "31  capacity in Total all classes of electricity p...  2015  Kilowatts   \n",
      "32  capacity in Total all classes of electricity p...  2016  Kilowatts   \n",
      "33  capacity in Total all classes of electricity p...  2017  Kilowatts   \n",
      "34  capacity in Total all classes of electricity p...  2018  Kilowatts   \n",
      "35  capacity in Total all classes of electricity p...  2019  Kilowatts   \n",
      "36  capacity in Total all classes of electricity p...  2020  Kilowatts   \n",
      "37  capacity in Total all classes of electricity p...  2021  Kilowatts   \n",
      "38  capacity in Total all classes of electricity p...  2022  Kilowatts   \n",
      "\n",
      "          value  growth_percentage  \n",
      "0    27705125.0           0.000000  \n",
      "1    27691677.0          -0.048540  \n",
      "2    29795358.5           7.544573  \n",
      "3    31899040.0          15.137687  \n",
      "4    35247539.0          27.223894  \n",
      "5    39908339.0          44.046775  \n",
      "6    41537207.0          49.926077  \n",
      "7    42681003.0          54.054540  \n",
      "8    44828168.0          61.804605  \n",
      "9    44133850.0          59.298505  \n",
      "10   44613990.0          61.031542  \n",
      "11   46685689.0          68.509216  \n",
      "12   49467747.0          78.550889  \n",
      "13   93910766.0           0.000000  \n",
      "14   94070930.0           0.170549  \n",
      "15   91889752.0          -2.152058  \n",
      "16   89708574.0          -4.474665  \n",
      "17   90411787.0          -3.725855  \n",
      "18   92124316.0          -1.902285  \n",
      "19   93672886.0          -0.253304  \n",
      "20   93355848.0          -0.590899  \n",
      "21   93074189.0          -0.890821  \n",
      "22   93746036.0          -0.175411  \n",
      "23   93788802.0          -0.129872  \n",
      "24   95275188.0           1.452892  \n",
      "25   95166384.0           1.337033  \n",
      "26  130528482.0           0.000000  \n",
      "27  130671821.0           0.109814  \n",
      "28  130797061.5           0.205763  \n",
      "29  130922302.0           0.301712  \n",
      "30  135088014.0           3.493132  \n",
      "31  141396648.0           8.326279  \n",
      "32  144375482.0          10.608413  \n",
      "33  145213838.0          11.250691  \n",
      "34  145304155.0          11.319884  \n",
      "35  145537767.0          11.498858  \n",
      "36  145960899.0          11.823026  \n",
      "37  149530514.0          14.557767  \n",
      "38  152206558.0          16.607928  \n"
     ]
    }
   ],
   "source": [
    "# Convert the list of dictionaries into a DataFrame\n",
    "df2 = pd.DataFrame(data2)\n",
    "\n",
    "# Display the DataFrame\n",
    "print(df2)"
   ]
  },
  {
   "cell_type": "code",
   "execution_count": 12,
   "metadata": {},
   "outputs": [
    {
     "data": {
      "text/html": [
       "<div>\n",
       "<style scoped>\n",
       "    .dataframe tbody tr th:only-of-type {\n",
       "        vertical-align: middle;\n",
       "    }\n",
       "\n",
       "    .dataframe tbody tr th {\n",
       "        vertical-align: top;\n",
       "    }\n",
       "\n",
       "    .dataframe thead th {\n",
       "        text-align: right;\n",
       "    }\n",
       "</style>\n",
       "<table border=\"1\" class=\"dataframe\">\n",
       "  <thead>\n",
       "    <tr style=\"text-align: right;\">\n",
       "      <th></th>\n",
       "      <th>sector</th>\n",
       "      <th>year</th>\n",
       "      <th>UOM</th>\n",
       "      <th>value</th>\n",
       "      <th>growth_percentage</th>\n",
       "    </tr>\n",
       "  </thead>\n",
       "  <tbody>\n",
       "    <tr>\n",
       "      <th>0</th>\n",
       "      <td>private electric utilities</td>\n",
       "      <td>2010</td>\n",
       "      <td>Kilowatts</td>\n",
       "      <td>27705125.0</td>\n",
       "      <td>0.000000</td>\n",
       "    </tr>\n",
       "    <tr>\n",
       "      <th>1</th>\n",
       "      <td>private electric utilities</td>\n",
       "      <td>2011</td>\n",
       "      <td>Kilowatts</td>\n",
       "      <td>27691677.0</td>\n",
       "      <td>-0.048540</td>\n",
       "    </tr>\n",
       "    <tr>\n",
       "      <th>2</th>\n",
       "      <td>private electric utilities</td>\n",
       "      <td>2012</td>\n",
       "      <td>Kilowatts</td>\n",
       "      <td>29795358.5</td>\n",
       "      <td>7.544573</td>\n",
       "    </tr>\n",
       "    <tr>\n",
       "      <th>3</th>\n",
       "      <td>private electric utilities</td>\n",
       "      <td>2013</td>\n",
       "      <td>Kilowatts</td>\n",
       "      <td>31899040.0</td>\n",
       "      <td>15.137687</td>\n",
       "    </tr>\n",
       "    <tr>\n",
       "      <th>4</th>\n",
       "      <td>private electric utilities</td>\n",
       "      <td>2014</td>\n",
       "      <td>Kilowatts</td>\n",
       "      <td>35247539.0</td>\n",
       "      <td>27.223894</td>\n",
       "    </tr>\n",
       "  </tbody>\n",
       "</table>\n",
       "</div>"
      ],
      "text/plain": [
       "                       sector  year        UOM       value  growth_percentage\n",
       "0  private electric utilities  2010  Kilowatts  27705125.0           0.000000\n",
       "1  private electric utilities  2011  Kilowatts  27691677.0          -0.048540\n",
       "2  private electric utilities  2012  Kilowatts  29795358.5           7.544573\n",
       "3  private electric utilities  2013  Kilowatts  31899040.0          15.137687\n",
       "4  private electric utilities  2014  Kilowatts  35247539.0          27.223894"
      ]
     },
     "execution_count": 12,
     "metadata": {},
     "output_type": "execute_result"
    }
   ],
   "source": [
    "df2.head()"
   ]
  }
 ],
 "metadata": {
  "kernelspec": {
   "display_name": "Python 3",
   "language": "python",
   "name": "python3"
  },
  "language_info": {
   "codemirror_mode": {
    "name": "ipython",
    "version": 3
   },
   "file_extension": ".py",
   "mimetype": "text/x-python",
   "name": "python",
   "nbconvert_exporter": "python",
   "pygments_lexer": "ipython3",
   "version": "3.10.11"
  }
 },
 "nbformat": 4,
 "nbformat_minor": 2
}
